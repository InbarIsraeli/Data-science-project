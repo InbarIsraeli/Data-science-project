{
 "cells": [
  {
   "cell_type": "markdown",
   "metadata": {},
   "source": [
    "# Greenhouse Gases and their effect on Climate Change"
   ]
  },
  {
   "cell_type": "markdown",
   "metadata": {},
   "source": [
    "The atmospheric concentrations of greenhouse gases reflect a balance between emissions from human activities, sources and sinks. Increasing levels of greenhouse gases in the atmosphere due to human activities are a major driver of climate change.\n",
    "\n",
    "*The Big 3:*\n",
    "\n",
    "*Carbon dioxide(CO2)* is the most commonly addressed greenhouse gas, and its atmospheric concentration is measured by parts per million(ppm). *Methane(CH4)* and *nitrous oxide(N2O)* are also extraordinarily important for the global climate and are measured by parts per billion (ppb).\n",
    "\n",
    "In 2019, greenhouse gas concentrations reached new highs.\n",
    "- Carbon dioxide: 410.5±0.2 ppm = 148% of preindustrial levels\n",
    "- Methane: 1877±2 ppb = 260% of preindustrial levels\n",
    "- Nitrous oxide: 332.0±0.1 ppb = 123% of pre-industrial levels."
   ]
  },
  {
   "cell_type": "markdown",
   "metadata": {},
   "source": [
    "It is important to mention that _despite_ setbacks from COVID-19, global greenhouse gas emissions *increased* in 2020."
   ]
  },
  {
   "cell_type": "code",
   "execution_count": 1,
   "metadata": {},
   "outputs": [],
   "source": [
    "import time \n",
    "import ast\n",
    "import os   \n",
    "import re\n",
    "import bs4\n",
    "from bs4 import BeautifulSoup  \n",
    "import pandas as pd\n",
    "import scipy as sc\n",
    "import numpy as np\n",
    "import pandas as pd\n",
    "import numpy as np\n",
    "import requests \n",
    "import json\n",
    "import requests\n",
    "import bs4\n",
    "from bs4 import BeautifulSoup\n",
    "import scipy as sc"
   ]
  },
  {
   "cell_type": "markdown",
   "metadata": {},
   "source": [
    " # Crawling\n",
    " \n",
    " We explored the artical about \"State of the Global Climate 2020\" :\n",
    " https://storymaps.arcgis.com/stories/6942683c7ed54e51b433bbc0c50fbdea\n",
    " \n",
    " The data about the Greenhouse Gas concentration is from the website:\n",
    " https://flo.uri.sh/visualisation/4452881/embed"
   ]
  },
  {
   "cell_type": "code",
   "execution_count": 2,
   "metadata": {},
   "outputs": [
    {
     "data": {
      "text/plain": [
       "requests.models.Response"
      ]
     },
     "execution_count": 2,
     "metadata": {},
     "output_type": "execute_result"
    }
   ],
   "source": [
    "greenhouse_gas_concentrations = requests.get('https://flo.uri.sh/visualisation/4452881/embed')\n",
    "type(greenhouse_gas_concentrations)"
   ]
  },
  {
   "cell_type": "code",
   "execution_count": 3,
   "metadata": {
    "scrolled": true
   },
   "outputs": [
    {
     "data": {
      "text/plain": [
       "bs4.BeautifulSoup"
      ]
     },
     "execution_count": 3,
     "metadata": {},
     "output_type": "execute_result"
    }
   ],
   "source": [
    "soup = BeautifulSoup(greenhouse_gas_concentrations.text,\"html.parser\")\n",
    "type(soup)"
   ]
  },
  {
   "cell_type": "code",
   "execution_count": 6,
   "metadata": {
    "scrolled": true
   },
   "outputs": [
    {
     "data": {
      "text/plain": [
       "<script>\n",
       "\t\tfunction _Flourish_unflattenInto(dest, src) {\n",
       "\t\t\tdest = dest || {};\n",
       "\t\t\tfor (var k in src) {\n",
       "\t\t\t\tvar t = dest;\n",
       "\t\t\t\tfor (var i = k.indexOf(\".\"), p = 0; i >= 0; i = k.indexOf(\".\", p = i+1)) {\n",
       "\t\t\t\t\tvar s = k.substring(p, i);\n",
       "\t\t\t\t\tif (!(s in t)) t[s] = {};\n",
       "\t\t\t\t\tt = t[s];\n",
       "\t\t\t\t}\n",
       "\t\t\t\tt[k.substring(p)] = src[k];\n",
       "\t\t\t}\n",
       "\t\t\treturn dest;\n",
       "\t\t}\n",
       "\t\tvar _Flourish_settings = {\"animate_on_load\":true,\"chart_bg.background_color\":\"#303030\",\"chart_bg.background_color_enabled\":true,\"chart_bg.background_image_enabled\":false,\"chart_type\":\"line\",\"color.categorical_custom_palette\":\"COLUMN A: #ad3b34\\n\",\"color.categorical_extend\":false,\"color.categorical_palette\":[\"#1D6996\",\"#EDAD08\",\"#73AF48\",\"#94346E\",\"#38A6A5\",\"#E17C05\",\"#5F4690\",\"#0F8554\",\"#6F4070\",\"#CC503E\",\"#994E95\",\"#666666\"],\"data_trans_bind_data_points\":false,\"data_trans_bind_series\":false,\"data_trans_duration\":1000,\"dot_hollow\":false,\"dot_mode\":\"on\",\"dot_radius\":0.15,\"dot_radius_last\":80,\"facet_fixed_cols\":false,\"facet_header_color\":null,\"facet_layout\":\"facets\",\"facet_title_align\":\"center\",\"height_mode\":\"auto\",\"label_data_type\":\"datetime\",\"labels\":false,\"layout.header_align\":\"center\",\"layout.header_border\":\"none\",\"layout.header_logo_enabled\":true,\"layout.subtitle\":\"\",\"layout.title\":\"\",\"line_curve\":\"curveNatural\",\"line_interpolate\":true,\"line_width\":0.2,\"log_control_y_visible\":false,\"secondary_series\":1,\"series_filter_mode\":\"multi\",\"x_axis_last_row_only\":false,\"x_axis_matching\":true,\"x.axis_position\":\"bottom\",\"x.datetime_min\":\"1984\",\"x.gridlines_visible\":false,\"x.linear_max\":null,\"x.linear_min\":null,\"x.show_scale_settings\":true,\"x.tick_label_styling\":false,\"x.title\":\"Year\",\"x.title_styling\":false,\"y2.linear_max\":-23,\"y2.linear_min\":1600,\"y2.title\":\"PPM\",\"y_axis_first_col_only\":false,\"y_axis_matching\":false,\"y.axis_visible\":true,\"y.gridlines_visible\":false,\"y.linear_max\":null,\"y.linear_min\":300,\"y.nice\":true,\"y.numeric_scale_type\":\"linear\",\"y.show_scale_settings\":true,\"y.title\":\"\",\"y.title_styling\":true,\"y.zero_axis\":\"auto\"};\n",
       "\t\t_Flourish_unflattenInto(window.template.state, _Flourish_settings);\n",
       "\n",
       "\t\tvar _Flourish_data_column_names = {\"data\":{\"label\":\"Year\",\"value\":[\"CO2 - ppm\",\"N2O - ppb\",\"CH4 - ppb\"]}},\n",
       "\t\t    _Flourish_data_metadata = {\"data\":{\"value\":[null,null,null]}},\n",
       "\t\t    _Flourish_data = {\"data\":[{\"label\":\"1984\",\"value\":[\"344.3\",\"303.9\",\"1654\"]},{\"label\":\"1985\",\"value\":[\"345.8\",\"304.5\",\"1666\"]},{\"label\":\"1986\",\"value\":[\"347.2\",\"305.3\",\"1679\"]},{\"label\":\"1987\",\"value\":[\"349\",\"305.9\",\"1691\"]},{\"label\":\"1988\",\"value\":[\"351.4\",\"306.7\",\"1703\"]},{\"label\":\"1989\",\"value\":[\"353\",\"307.6\",\"1714\"]},{\"label\":\"1990\",\"value\":[\"354.2\",\"308.6\",\"1724\"]},{\"label\":\"1991\",\"value\":[\"355.5\",\"309.3\",\"1735\"]},{\"label\":\"1992\",\"value\":[\"356.2\",\"309.9\",\"1743\"]},{\"label\":\"1993\",\"value\":[\"357\",\"310.1\",\"1746\"]},{\"label\":\"1994\",\"value\":[\"358.6\",\"310.7\",\"1752\"]},{\"label\":\"1995\",\"value\":[\"360.4\",\"311.4\",\"1759\"]},{\"label\":\"1996\",\"value\":[\"362.1\",\"312\",\"1761\"]},{\"label\":\"1997\",\"value\":[\"363.3\",\"312.9\",\"1765\"]},{\"label\":\"1998\",\"value\":[\"366\",\"313.7\",\"1774\"]},{\"label\":\"1999\",\"value\":[\"368\",\"314.6\",\"1782\"]},{\"label\":\"2000\",\"value\":[\"369.5\",\"315.7\",\"1783\"]},{\"label\":\"2001\",\"value\":[\"371\",\"316.4\",\"1782\"]},{\"label\":\"2002\",\"value\":[\"372.9\",\"317.1\",\"1783\"]},{\"label\":\"2003\",\"value\":[\"375.3\",\"317.7\",\"1787\"]},{\"label\":\"2004\",\"value\":[\"377.1\",\"318.4\",\"1786\"]},{\"label\":\"2005\",\"value\":[\"379.2\",\"319.1\",\"1785\"]},{\"label\":\"2006\",\"value\":[\"381.3\",\"320\",\"1785\"]},{\"label\":\"2007\",\"value\":[\"383.1\",\"320.7\",\"1791\"]},{\"label\":\"2008\",\"value\":[\"385.2\",\"321.6\",\"1799\"]},{\"label\":\"2009\",\"value\":[\"386.8\",\"322.4\",\"1804\"]},{\"label\":\"2010\",\"value\":[\"389\",\"323.3\",\"1809\"]},{\"label\":\"2011\",\"value\":[\"390.9\",\"324.3\",\"1814\"]},{\"label\":\"2012\",\"value\":[\"393.1\",\"325.2\",\"1819\"]},{\"label\":\"2013\",\"value\":[\"395.8\",\"326.2\",\"1825\"]},{\"label\":\"2014\",\"value\":[\"397.7\",\"327.3\",\"1834\"]},{\"label\":\"2015\",\"value\":[\"400.1\",\"328.3\",\"1844\"]},{\"label\":\"2016\",\"value\":[\"403.3\",\"329.1\",\"1853\"]},{\"label\":\"2017\",\"value\":[\"405.6\",\"329.9\",\"1860\"]},{\"label\":\"2018\",\"value\":[\"407.9\",\"331.1\",\"1869\"]},{\"label\":\"2019\",\"value\":[\"410.5\",\"332\",\"1877\"]}]};\n",
       "\t\tfor (var _Flourish_dataset in _Flourish_data) {\n",
       "\t\t\t\twindow.template.data[_Flourish_dataset] = _Flourish_data[_Flourish_dataset];\n",
       "\t\t\t\twindow.template.data[_Flourish_dataset].column_names = _Flourish_data_column_names[_Flourish_dataset];\n",
       "\t\t\t\twindow.template.data[_Flourish_dataset].metadata = _Flourish_data_metadata[_Flourish_dataset];\n",
       "\t\t}\n",
       "\t\twindow.template.draw();\n",
       "\t</script>"
      ]
     },
     "execution_count": 6,
     "metadata": {},
     "output_type": "execute_result"
    }
   ],
   "source": [
    "find_script = soup.find_all('script')[4]\n",
    "find_script"
   ]
  },
  {
   "cell_type": "code",
   "execution_count": 5,
   "metadata": {},
   "outputs": [
    {
     "data": {
      "text/plain": [
       "bs4.element.Tag"
      ]
     },
     "execution_count": 5,
     "metadata": {},
     "output_type": "execute_result"
    }
   ],
   "source": [
    "type(find_script)"
   ]
  },
  {
   "cell_type": "code",
   "execution_count": 7,
   "metadata": {
    "scrolled": true
   },
   "outputs": [
    {
     "data": {
      "text/plain": [
       "'<script>\\n\\t\\tfunction _Flourish_unflattenInto(dest, src) {\\n\\t\\t\\tdest = dest || {};\\n\\t\\t\\tfor (var k in src) {\\n\\t\\t\\t\\tvar t = dest;\\n\\t\\t\\t\\tfor (var i = k.indexOf(\".\"), p = 0; i >= 0; i = k.indexOf(\".\", p = i+1)) {\\n\\t\\t\\t\\t\\tvar s = k.substring(p, i);\\n\\t\\t\\t\\t\\tif (!(s in t)) t[s] = {};\\n\\t\\t\\t\\t\\tt = t[s];\\n\\t\\t\\t\\t}\\n\\t\\t\\t\\tt[k.substring(p)] = src[k];\\n\\t\\t\\t}\\n\\t\\t\\treturn dest;\\n\\t\\t}\\n\\t\\tvar _Flourish_settings = {\"animate_on_load\":true,\"chart_bg.background_color\":\"#303030\",\"chart_bg.background_color_enabled\":true,\"chart_bg.background_image_enabled\":false,\"chart_type\":\"line\",\"color.categorical_custom_palette\":\"COLUMN A: #ad3b34\\\\n\",\"color.categorical_extend\":false,\"color.categorical_palette\":[\"#1D6996\",\"#EDAD08\",\"#73AF48\",\"#94346E\",\"#38A6A5\",\"#E17C05\",\"#5F4690\",\"#0F8554\",\"#6F4070\",\"#CC503E\",\"#994E95\",\"#666666\"],\"data_trans_bind_data_points\":false,\"data_trans_bind_series\":false,\"data_trans_duration\":1000,\"dot_hollow\":false,\"dot_mode\":\"on\",\"dot_radius\":0.15,\"dot_radius_last\":80,\"facet_fixed_cols\":false,\"facet_header_color\":null,\"facet_layout\":\"facets\",\"facet_title_align\":\"center\",\"height_mode\":\"auto\",\"label_data_type\":\"datetime\",\"labels\":false,\"layout.header_align\":\"center\",\"layout.header_border\":\"none\",\"layout.header_logo_enabled\":true,\"layout.subtitle\":\"\",\"layout.title\":\"\",\"line_curve\":\"curveNatural\",\"line_interpolate\":true,\"line_width\":0.2,\"log_control_y_visible\":false,\"secondary_series\":1,\"series_filter_mode\":\"multi\",\"x_axis_last_row_only\":false,\"x_axis_matching\":true,\"x.axis_position\":\"bottom\",\"x.datetime_min\":\"1984\",\"x.gridlines_visible\":false,\"x.linear_max\":null,\"x.linear_min\":null,\"x.show_scale_settings\":true,\"x.tick_label_styling\":false,\"x.title\":\"Year\",\"x.title_styling\":false,\"y2.linear_max\":-23,\"y2.linear_min\":1600,\"y2.title\":\"PPM\",\"y_axis_first_col_only\":false,\"y_axis_matching\":false,\"y.axis_visible\":true,\"y.gridlines_visible\":false,\"y.linear_max\":null,\"y.linear_min\":300,\"y.nice\":true,\"y.numeric_scale_type\":\"linear\",\"y.show_scale_settings\":true,\"y.title\":\"\",\"y.title_styling\":true,\"y.zero_axis\":\"auto\"};\\n\\t\\t_Flourish_unflattenInto(window.template.state, _Flourish_settings);\\n\\n\\t\\tvar _Flourish_data_column_names = {\"data\":{\"label\":\"Year\",\"value\":[\"CO2 - ppm\",\"N2O - ppb\",\"CH4 - ppb\"]}},\\n\\t\\t    _Flourish_data_metadata = {\"data\":{\"value\":[null,null,null]}},\\n\\t\\t    _Flourish_data = {\"data\":[{\"label\":\"1984\",\"value\":[\"344.3\",\"303.9\",\"1654\"]},{\"label\":\"1985\",\"value\":[\"345.8\",\"304.5\",\"1666\"]},{\"label\":\"1986\",\"value\":[\"347.2\",\"305.3\",\"1679\"]},{\"label\":\"1987\",\"value\":[\"349\",\"305.9\",\"1691\"]},{\"label\":\"1988\",\"value\":[\"351.4\",\"306.7\",\"1703\"]},{\"label\":\"1989\",\"value\":[\"353\",\"307.6\",\"1714\"]},{\"label\":\"1990\",\"value\":[\"354.2\",\"308.6\",\"1724\"]},{\"label\":\"1991\",\"value\":[\"355.5\",\"309.3\",\"1735\"]},{\"label\":\"1992\",\"value\":[\"356.2\",\"309.9\",\"1743\"]},{\"label\":\"1993\",\"value\":[\"357\",\"310.1\",\"1746\"]},{\"label\":\"1994\",\"value\":[\"358.6\",\"310.7\",\"1752\"]},{\"label\":\"1995\",\"value\":[\"360.4\",\"311.4\",\"1759\"]},{\"label\":\"1996\",\"value\":[\"362.1\",\"312\",\"1761\"]},{\"label\":\"1997\",\"value\":[\"363.3\",\"312.9\",\"1765\"]},{\"label\":\"1998\",\"value\":[\"366\",\"313.7\",\"1774\"]},{\"label\":\"1999\",\"value\":[\"368\",\"314.6\",\"1782\"]},{\"label\":\"2000\",\"value\":[\"369.5\",\"315.7\",\"1783\"]},{\"label\":\"2001\",\"value\":[\"371\",\"316.4\",\"1782\"]},{\"label\":\"2002\",\"value\":[\"372.9\",\"317.1\",\"1783\"]},{\"label\":\"2003\",\"value\":[\"375.3\",\"317.7\",\"1787\"]},{\"label\":\"2004\",\"value\":[\"377.1\",\"318.4\",\"1786\"]},{\"label\":\"2005\",\"value\":[\"379.2\",\"319.1\",\"1785\"]},{\"label\":\"2006\",\"value\":[\"381.3\",\"320\",\"1785\"]},{\"label\":\"2007\",\"value\":[\"383.1\",\"320.7\",\"1791\"]},{\"label\":\"2008\",\"value\":[\"385.2\",\"321.6\",\"1799\"]},{\"label\":\"2009\",\"value\":[\"386.8\",\"322.4\",\"1804\"]},{\"label\":\"2010\",\"value\":[\"389\",\"323.3\",\"1809\"]},{\"label\":\"2011\",\"value\":[\"390.9\",\"324.3\",\"1814\"]},{\"label\":\"2012\",\"value\":[\"393.1\",\"325.2\",\"1819\"]},{\"label\":\"2013\",\"value\":[\"395.8\",\"326.2\",\"1825\"]},{\"label\":\"2014\",\"value\":[\"397.7\",\"327.3\",\"1834\"]},{\"label\":\"2015\",\"value\":[\"400.1\",\"328.3\",\"1844\"]},{\"label\":\"2016\",\"value\":[\"403.3\",\"329.1\",\"1853\"]},{\"label\":\"2017\",\"value\":[\"405.6\",\"329.9\",\"1860\"]},{\"label\":\"2018\",\"value\":[\"407.9\",\"331.1\",\"1869\"]},{\"label\":\"2019\",\"value\":[\"410.5\",\"332\",\"1877\"]}]};\\n\\t\\tfor (var _Flourish_dataset in _Flourish_data) {\\n\\t\\t\\t\\twindow.template.data[_Flourish_dataset] = _Flourish_data[_Flourish_dataset];\\n\\t\\t\\t\\twindow.template.data[_Flourish_dataset].column_names = _Flourish_data_column_names[_Flourish_dataset];\\n\\t\\t\\t\\twindow.template.data[_Flourish_dataset].metadata = _Flourish_data_metadata[_Flourish_dataset];\\n\\t\\t}\\n\\t\\twindow.template.draw();\\n\\t</script>'"
      ]
     },
     "execution_count": 7,
     "metadata": {},
     "output_type": "execute_result"
    }
   ],
   "source": [
    "str_script = str(find_script)\n",
    "str_script "
   ]
  },
  {
   "cell_type": "code",
   "execution_count": 8,
   "metadata": {
    "scrolled": false
   },
   "outputs": [
    {
     "name": "stdout",
     "output_type": "stream",
     "text": [
      "{'data': [{'label': '1984', 'value': ['344.3', '303.9', '1654']}, {'label': '1985', 'value': ['345.8', '304.5', '1666']}, {'label': '1986', 'value': ['347.2', '305.3', '1679']}, {'label': '1987', 'value': ['349', '305.9', '1691']}, {'label': '1988', 'value': ['351.4', '306.7', '1703']}, {'label': '1989', 'value': ['353', '307.6', '1714']}, {'label': '1990', 'value': ['354.2', '308.6', '1724']}, {'label': '1991', 'value': ['355.5', '309.3', '1735']}, {'label': '1992', 'value': ['356.2', '309.9', '1743']}, {'label': '1993', 'value': ['357', '310.1', '1746']}, {'label': '1994', 'value': ['358.6', '310.7', '1752']}, {'label': '1995', 'value': ['360.4', '311.4', '1759']}, {'label': '1996', 'value': ['362.1', '312', '1761']}, {'label': '1997', 'value': ['363.3', '312.9', '1765']}, {'label': '1998', 'value': ['366', '313.7', '1774']}, {'label': '1999', 'value': ['368', '314.6', '1782']}, {'label': '2000', 'value': ['369.5', '315.7', '1783']}, {'label': '2001', 'value': ['371', '316.4', '1782']}, {'label': '2002', 'value': ['372.9', '317.1', '1783']}, {'label': '2003', 'value': ['375.3', '317.7', '1787']}, {'label': '2004', 'value': ['377.1', '318.4', '1786']}, {'label': '2005', 'value': ['379.2', '319.1', '1785']}, {'label': '2006', 'value': ['381.3', '320', '1785']}, {'label': '2007', 'value': ['383.1', '320.7', '1791']}, {'label': '2008', 'value': ['385.2', '321.6', '1799']}, {'label': '2009', 'value': ['386.8', '322.4', '1804']}, {'label': '2010', 'value': ['389', '323.3', '1809']}, {'label': '2011', 'value': ['390.9', '324.3', '1814']}, {'label': '2012', 'value': ['393.1', '325.2', '1819']}, {'label': '2013', 'value': ['395.8', '326.2', '1825']}, {'label': '2014', 'value': ['397.7', '327.3', '1834']}, {'label': '2015', 'value': ['400.1', '328.3', '1844']}, {'label': '2016', 'value': ['403.3', '329.1', '1853']}, {'label': '2017', 'value': ['405.6', '329.9', '1860']}, {'label': '2018', 'value': ['407.9', '331.1', '1869']}, {'label': '2019', 'value': ['410.5', '332', '1877']}]}\n"
     ]
    }
   ],
   "source": [
    "flourish_data = str_script.split(\"_Flourish_data = \")[1].split(\";\")[0]\n",
    "print(eval(flourish_data))"
   ]
  },
  {
   "cell_type": "code",
   "execution_count": 9,
   "metadata": {},
   "outputs": [
    {
     "data": {
      "text/plain": [
       "'{\"data\":[{\"label\":\"1984\",\"value\":[\"344.3\",\"303.9\",\"1654\"]},{\"label\":\"1985\",\"value\":[\"345.8\",\"304.5\",\"1666\"]},{\"label\":\"1986\",\"value\":[\"347.2\",\"305.3\",\"1679\"]},{\"label\":\"1987\",\"value\":[\"349\",\"305.9\",\"1691\"]},{\"label\":\"1988\",\"value\":[\"351.4\",\"306.7\",\"1703\"]},{\"label\":\"1989\",\"value\":[\"353\",\"307.6\",\"1714\"]},{\"label\":\"1990\",\"value\":[\"354.2\",\"308.6\",\"1724\"]},{\"label\":\"1991\",\"value\":[\"355.5\",\"309.3\",\"1735\"]},{\"label\":\"1992\",\"value\":[\"356.2\",\"309.9\",\"1743\"]},{\"label\":\"1993\",\"value\":[\"357\",\"310.1\",\"1746\"]},{\"label\":\"1994\",\"value\":[\"358.6\",\"310.7\",\"1752\"]},{\"label\":\"1995\",\"value\":[\"360.4\",\"311.4\",\"1759\"]},{\"label\":\"1996\",\"value\":[\"362.1\",\"312\",\"1761\"]},{\"label\":\"1997\",\"value\":[\"363.3\",\"312.9\",\"1765\"]},{\"label\":\"1998\",\"value\":[\"366\",\"313.7\",\"1774\"]},{\"label\":\"1999\",\"value\":[\"368\",\"314.6\",\"1782\"]},{\"label\":\"2000\",\"value\":[\"369.5\",\"315.7\",\"1783\"]},{\"label\":\"2001\",\"value\":[\"371\",\"316.4\",\"1782\"]},{\"label\":\"2002\",\"value\":[\"372.9\",\"317.1\",\"1783\"]},{\"label\":\"2003\",\"value\":[\"375.3\",\"317.7\",\"1787\"]},{\"label\":\"2004\",\"value\":[\"377.1\",\"318.4\",\"1786\"]},{\"label\":\"2005\",\"value\":[\"379.2\",\"319.1\",\"1785\"]},{\"label\":\"2006\",\"value\":[\"381.3\",\"320\",\"1785\"]},{\"label\":\"2007\",\"value\":[\"383.1\",\"320.7\",\"1791\"]},{\"label\":\"2008\",\"value\":[\"385.2\",\"321.6\",\"1799\"]},{\"label\":\"2009\",\"value\":[\"386.8\",\"322.4\",\"1804\"]},{\"label\":\"2010\",\"value\":[\"389\",\"323.3\",\"1809\"]},{\"label\":\"2011\",\"value\":[\"390.9\",\"324.3\",\"1814\"]},{\"label\":\"2012\",\"value\":[\"393.1\",\"325.2\",\"1819\"]},{\"label\":\"2013\",\"value\":[\"395.8\",\"326.2\",\"1825\"]},{\"label\":\"2014\",\"value\":[\"397.7\",\"327.3\",\"1834\"]},{\"label\":\"2015\",\"value\":[\"400.1\",\"328.3\",\"1844\"]},{\"label\":\"2016\",\"value\":[\"403.3\",\"329.1\",\"1853\"]},{\"label\":\"2017\",\"value\":[\"405.6\",\"329.9\",\"1860\"]},{\"label\":\"2018\",\"value\":[\"407.9\",\"331.1\",\"1869\"]},{\"label\":\"2019\",\"value\":[\"410.5\",\"332\",\"1877\"]}]}'"
      ]
     },
     "execution_count": 9,
     "metadata": {},
     "output_type": "execute_result"
    }
   ],
   "source": [
    "flourish_data"
   ]
  },
  {
   "cell_type": "code",
   "execution_count": 10,
   "metadata": {},
   "outputs": [
    {
     "data": {
      "text/plain": [
       "str"
      ]
     },
     "execution_count": 10,
     "metadata": {},
     "output_type": "execute_result"
    }
   ],
   "source": [
    "type(flourish_data)"
   ]
  },
  {
   "cell_type": "code",
   "execution_count": 11,
   "metadata": {
    "scrolled": false
   },
   "outputs": [
    {
     "data": {
      "text/html": [
       "<div>\n",
       "<style scoped>\n",
       "    .dataframe tbody tr th:only-of-type {\n",
       "        vertical-align: middle;\n",
       "    }\n",
       "\n",
       "    .dataframe tbody tr th {\n",
       "        vertical-align: top;\n",
       "    }\n",
       "\n",
       "    .dataframe thead th {\n",
       "        text-align: right;\n",
       "    }\n",
       "</style>\n",
       "<table border=\"1\" class=\"dataframe\">\n",
       "  <thead>\n",
       "    <tr style=\"text-align: right;\">\n",
       "      <th></th>\n",
       "      <th>year</th>\n",
       "      <th>CO2_levels</th>\n",
       "      <th>N2O_levels</th>\n",
       "      <th>CH4_levels</th>\n",
       "    </tr>\n",
       "  </thead>\n",
       "  <tbody>\n",
       "    <tr>\n",
       "      <th>0</th>\n",
       "      <td>1984</td>\n",
       "      <td>344.3</td>\n",
       "      <td>303.9</td>\n",
       "      <td>1654</td>\n",
       "    </tr>\n",
       "    <tr>\n",
       "      <th>1</th>\n",
       "      <td>1985</td>\n",
       "      <td>345.8</td>\n",
       "      <td>304.5</td>\n",
       "      <td>1666</td>\n",
       "    </tr>\n",
       "    <tr>\n",
       "      <th>2</th>\n",
       "      <td>1986</td>\n",
       "      <td>347.2</td>\n",
       "      <td>305.3</td>\n",
       "      <td>1679</td>\n",
       "    </tr>\n",
       "    <tr>\n",
       "      <th>3</th>\n",
       "      <td>1987</td>\n",
       "      <td>349</td>\n",
       "      <td>305.9</td>\n",
       "      <td>1691</td>\n",
       "    </tr>\n",
       "    <tr>\n",
       "      <th>4</th>\n",
       "      <td>1988</td>\n",
       "      <td>351.4</td>\n",
       "      <td>306.7</td>\n",
       "      <td>1703</td>\n",
       "    </tr>\n",
       "    <tr>\n",
       "      <th>5</th>\n",
       "      <td>1989</td>\n",
       "      <td>353</td>\n",
       "      <td>307.6</td>\n",
       "      <td>1714</td>\n",
       "    </tr>\n",
       "    <tr>\n",
       "      <th>6</th>\n",
       "      <td>1990</td>\n",
       "      <td>354.2</td>\n",
       "      <td>308.6</td>\n",
       "      <td>1724</td>\n",
       "    </tr>\n",
       "    <tr>\n",
       "      <th>7</th>\n",
       "      <td>1991</td>\n",
       "      <td>355.5</td>\n",
       "      <td>309.3</td>\n",
       "      <td>1735</td>\n",
       "    </tr>\n",
       "    <tr>\n",
       "      <th>8</th>\n",
       "      <td>1992</td>\n",
       "      <td>356.2</td>\n",
       "      <td>309.9</td>\n",
       "      <td>1743</td>\n",
       "    </tr>\n",
       "    <tr>\n",
       "      <th>9</th>\n",
       "      <td>1993</td>\n",
       "      <td>357</td>\n",
       "      <td>310.1</td>\n",
       "      <td>1746</td>\n",
       "    </tr>\n",
       "    <tr>\n",
       "      <th>10</th>\n",
       "      <td>1994</td>\n",
       "      <td>358.6</td>\n",
       "      <td>310.7</td>\n",
       "      <td>1752</td>\n",
       "    </tr>\n",
       "    <tr>\n",
       "      <th>11</th>\n",
       "      <td>1995</td>\n",
       "      <td>360.4</td>\n",
       "      <td>311.4</td>\n",
       "      <td>1759</td>\n",
       "    </tr>\n",
       "    <tr>\n",
       "      <th>12</th>\n",
       "      <td>1996</td>\n",
       "      <td>362.1</td>\n",
       "      <td>312</td>\n",
       "      <td>1761</td>\n",
       "    </tr>\n",
       "    <tr>\n",
       "      <th>13</th>\n",
       "      <td>1997</td>\n",
       "      <td>363.3</td>\n",
       "      <td>312.9</td>\n",
       "      <td>1765</td>\n",
       "    </tr>\n",
       "    <tr>\n",
       "      <th>14</th>\n",
       "      <td>1998</td>\n",
       "      <td>366</td>\n",
       "      <td>313.7</td>\n",
       "      <td>1774</td>\n",
       "    </tr>\n",
       "    <tr>\n",
       "      <th>15</th>\n",
       "      <td>1999</td>\n",
       "      <td>368</td>\n",
       "      <td>314.6</td>\n",
       "      <td>1782</td>\n",
       "    </tr>\n",
       "    <tr>\n",
       "      <th>16</th>\n",
       "      <td>2000</td>\n",
       "      <td>369.5</td>\n",
       "      <td>315.7</td>\n",
       "      <td>1783</td>\n",
       "    </tr>\n",
       "    <tr>\n",
       "      <th>17</th>\n",
       "      <td>2001</td>\n",
       "      <td>371</td>\n",
       "      <td>316.4</td>\n",
       "      <td>1782</td>\n",
       "    </tr>\n",
       "    <tr>\n",
       "      <th>18</th>\n",
       "      <td>2002</td>\n",
       "      <td>372.9</td>\n",
       "      <td>317.1</td>\n",
       "      <td>1783</td>\n",
       "    </tr>\n",
       "    <tr>\n",
       "      <th>19</th>\n",
       "      <td>2003</td>\n",
       "      <td>375.3</td>\n",
       "      <td>317.7</td>\n",
       "      <td>1787</td>\n",
       "    </tr>\n",
       "    <tr>\n",
       "      <th>20</th>\n",
       "      <td>2004</td>\n",
       "      <td>377.1</td>\n",
       "      <td>318.4</td>\n",
       "      <td>1786</td>\n",
       "    </tr>\n",
       "    <tr>\n",
       "      <th>21</th>\n",
       "      <td>2005</td>\n",
       "      <td>379.2</td>\n",
       "      <td>319.1</td>\n",
       "      <td>1785</td>\n",
       "    </tr>\n",
       "    <tr>\n",
       "      <th>22</th>\n",
       "      <td>2006</td>\n",
       "      <td>381.3</td>\n",
       "      <td>320</td>\n",
       "      <td>1785</td>\n",
       "    </tr>\n",
       "    <tr>\n",
       "      <th>23</th>\n",
       "      <td>2007</td>\n",
       "      <td>383.1</td>\n",
       "      <td>320.7</td>\n",
       "      <td>1791</td>\n",
       "    </tr>\n",
       "    <tr>\n",
       "      <th>24</th>\n",
       "      <td>2008</td>\n",
       "      <td>385.2</td>\n",
       "      <td>321.6</td>\n",
       "      <td>1799</td>\n",
       "    </tr>\n",
       "    <tr>\n",
       "      <th>25</th>\n",
       "      <td>2009</td>\n",
       "      <td>386.8</td>\n",
       "      <td>322.4</td>\n",
       "      <td>1804</td>\n",
       "    </tr>\n",
       "    <tr>\n",
       "      <th>26</th>\n",
       "      <td>2010</td>\n",
       "      <td>389</td>\n",
       "      <td>323.3</td>\n",
       "      <td>1809</td>\n",
       "    </tr>\n",
       "    <tr>\n",
       "      <th>27</th>\n",
       "      <td>2011</td>\n",
       "      <td>390.9</td>\n",
       "      <td>324.3</td>\n",
       "      <td>1814</td>\n",
       "    </tr>\n",
       "    <tr>\n",
       "      <th>28</th>\n",
       "      <td>2012</td>\n",
       "      <td>393.1</td>\n",
       "      <td>325.2</td>\n",
       "      <td>1819</td>\n",
       "    </tr>\n",
       "    <tr>\n",
       "      <th>29</th>\n",
       "      <td>2013</td>\n",
       "      <td>395.8</td>\n",
       "      <td>326.2</td>\n",
       "      <td>1825</td>\n",
       "    </tr>\n",
       "    <tr>\n",
       "      <th>30</th>\n",
       "      <td>2014</td>\n",
       "      <td>397.7</td>\n",
       "      <td>327.3</td>\n",
       "      <td>1834</td>\n",
       "    </tr>\n",
       "    <tr>\n",
       "      <th>31</th>\n",
       "      <td>2015</td>\n",
       "      <td>400.1</td>\n",
       "      <td>328.3</td>\n",
       "      <td>1844</td>\n",
       "    </tr>\n",
       "    <tr>\n",
       "      <th>32</th>\n",
       "      <td>2016</td>\n",
       "      <td>403.3</td>\n",
       "      <td>329.1</td>\n",
       "      <td>1853</td>\n",
       "    </tr>\n",
       "    <tr>\n",
       "      <th>33</th>\n",
       "      <td>2017</td>\n",
       "      <td>405.6</td>\n",
       "      <td>329.9</td>\n",
       "      <td>1860</td>\n",
       "    </tr>\n",
       "    <tr>\n",
       "      <th>34</th>\n",
       "      <td>2018</td>\n",
       "      <td>407.9</td>\n",
       "      <td>331.1</td>\n",
       "      <td>1869</td>\n",
       "    </tr>\n",
       "    <tr>\n",
       "      <th>35</th>\n",
       "      <td>2019</td>\n",
       "      <td>410.5</td>\n",
       "      <td>332</td>\n",
       "      <td>1877</td>\n",
       "    </tr>\n",
       "  </tbody>\n",
       "</table>\n",
       "</div>"
      ],
      "text/plain": [
       "    year CO2_levels N2O_levels CH4_levels\n",
       "0   1984      344.3      303.9       1654\n",
       "1   1985      345.8      304.5       1666\n",
       "2   1986      347.2      305.3       1679\n",
       "3   1987        349      305.9       1691\n",
       "4   1988      351.4      306.7       1703\n",
       "5   1989        353      307.6       1714\n",
       "6   1990      354.2      308.6       1724\n",
       "7   1991      355.5      309.3       1735\n",
       "8   1992      356.2      309.9       1743\n",
       "9   1993        357      310.1       1746\n",
       "10  1994      358.6      310.7       1752\n",
       "11  1995      360.4      311.4       1759\n",
       "12  1996      362.1        312       1761\n",
       "13  1997      363.3      312.9       1765\n",
       "14  1998        366      313.7       1774\n",
       "15  1999        368      314.6       1782\n",
       "16  2000      369.5      315.7       1783\n",
       "17  2001        371      316.4       1782\n",
       "18  2002      372.9      317.1       1783\n",
       "19  2003      375.3      317.7       1787\n",
       "20  2004      377.1      318.4       1786\n",
       "21  2005      379.2      319.1       1785\n",
       "22  2006      381.3        320       1785\n",
       "23  2007      383.1      320.7       1791\n",
       "24  2008      385.2      321.6       1799\n",
       "25  2009      386.8      322.4       1804\n",
       "26  2010        389      323.3       1809\n",
       "27  2011      390.9      324.3       1814\n",
       "28  2012      393.1      325.2       1819\n",
       "29  2013      395.8      326.2       1825\n",
       "30  2014      397.7      327.3       1834\n",
       "31  2015      400.1      328.3       1844\n",
       "32  2016      403.3      329.1       1853\n",
       "33  2017      405.6      329.9       1860\n",
       "34  2018      407.9      331.1       1869\n",
       "35  2019      410.5        332       1877"
      ]
     },
     "execution_count": 11,
     "metadata": {},
     "output_type": "execute_result"
    }
   ],
   "source": [
    "flourish_data = flourish_data.replace('{\"data\":', '').replace(\"]}]}\", \"]}]\")\n",
    "res_data = ast.literal_eval(flourish_data)\n",
    "year = []\n",
    "CO2_levels = []\n",
    "N2O_levels = []\n",
    "CH4_levels = []\n",
    "# print(\"greenhouse gas levels:\\n\")\n",
    "# print(\"year CO2_ppm N2O_ppb CH4_ppb\")\n",
    "for a in res_data:\n",
    "    label = a['label']\n",
    "    data_value = a['value']\n",
    "#     print(label, data_value[0],\"  \",data_value[1],\"  \",data_value[2])\n",
    "\n",
    "    year.append(a['label'])\n",
    "    CO2_levels.append(data_value[0])\n",
    "    N2O_levels.append(data_value[1])\n",
    "    CH4_levels.append(data_value[2])\n",
    "    \n",
    "df_greenhouse_gas = pd.DataFrame({\"year\":year,\"CO2_levels\":CO2_levels,\"N2O_levels\":N2O_levels,\"CH4_levels\":CH4_levels})\n",
    "df_greenhouse_gas"
   ]
  },
  {
   "cell_type": "code",
   "execution_count": 12,
   "metadata": {},
   "outputs": [
    {
     "name": "stdout",
     "output_type": "stream",
     "text": [
      "<class 'pandas.core.frame.DataFrame'>\n",
      "RangeIndex: 36 entries, 0 to 35\n",
      "Data columns (total 4 columns):\n",
      " #   Column      Non-Null Count  Dtype \n",
      "---  ------      --------------  ----- \n",
      " 0   year        36 non-null     object\n",
      " 1   CO2_levels  36 non-null     object\n",
      " 2   N2O_levels  36 non-null     object\n",
      " 3   CH4_levels  36 non-null     object\n",
      "dtypes: object(4)\n",
      "memory usage: 1.2+ KB\n"
     ]
    }
   ],
   "source": [
    "df_greenhouse_gas.info()"
   ]
  },
  {
   "cell_type": "code",
   "execution_count": 14,
   "metadata": {},
   "outputs": [],
   "source": [
    "df_greenhouse_gas.to_csv(\"data/greenhouse gas.csv\", index=False)"
   ]
  }
 ],
 "metadata": {
  "kernelspec": {
   "display_name": "Python 3",
   "language": "python",
   "name": "python3"
  },
  "language_info": {
   "codemirror_mode": {
    "name": "ipython",
    "version": 3
   },
   "file_extension": ".py",
   "mimetype": "text/x-python",
   "name": "python",
   "nbconvert_exporter": "python",
   "pygments_lexer": "ipython3",
   "version": "3.8.5"
  }
 },
 "nbformat": 4,
 "nbformat_minor": 4
}
